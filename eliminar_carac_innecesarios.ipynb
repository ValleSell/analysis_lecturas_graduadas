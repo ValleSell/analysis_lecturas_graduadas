{
 "cells": [
  {
   "cell_type": "code",
   "execution_count": null,
   "id": "7133599c",
   "metadata": {},
   "outputs": [],
   "source": [
    "#creación de una función que elimina caracteres innecesarios del texto\n",
    "def quita_car_innec(txt):\n",
    "    specialChars = \"1234567890:#»¡¿$<>°■%^`&*()\"\n",
    "    for specialChar in specialChars:\n",
    "        txt=txt.replace (specialChar, \"\")\n",
    "    return txt \n",
    " "
   ]
  },
  {
   "cell_type": "code",
   "execution_count": null,
   "id": "53780abf",
   "metadata": {},
   "outputs": [],
   "source": [
    "#busca documentos en una carpeta determinada, indicada en path_in, y, si terminan en .txt, los lee, \n",
    "#aplica la función quita_car_innec línea por línea y escribe los documentos resultantes sin caracteres innecesarios\n",
    "#en la carpeta especificada en path_out\n",
    "import os\n",
    "path_in = \"Z:\\Valle\\Master BCN\\TFM\\lecturas graduadas\\Scans\\\\\"\n",
    "#path_in = \"Z:\\Valle\\Master BCN\\TFM\\lecturas graduadas\\carpeta de prueba\\\\\"\n",
    "    \n",
    "path_out = \"Z:\\Valle\\Master BCN\\TFM\\lecturas graduadas\\output\\\\\"\n",
    "#path_out = \"Z:\\Valle\\Master BCN\\TFM\\lecturas graduadas\\carpeta de prueba\\output\\\\\"\n",
    "\n",
    "filelist = os.listdir(path_in)\n",
    "for i in filelist:\n",
    "    if i.endswith(\".txt\"):  # can also add \"and i.startswith('f')\n",
    "        with open(path_in + i, 'r', encoding=\"UTF8\") as file:\n",
    "            outfile = open(path_out + i, 'w', encoding=\"UTF8\")\n",
    "            for line in file.readlines():\n",
    "                if len(line)>2:\n",
    "                    outfile.write(quita_car_innec(line))\n",
    "            outfile.close()"
   ]
  }
 ],
 "metadata": {
  "kernelspec": {
   "display_name": "Python 3",
   "language": "python",
   "name": "python3"
  },
  "language_info": {
   "codemirror_mode": {
    "name": "ipython",
    "version": 3
   },
   "file_extension": ".py",
   "mimetype": "text/x-python",
   "name": "python",
   "nbconvert_exporter": "python",
   "pygments_lexer": "ipython3",
   "version": "3.8.10"
  }
 },
 "nbformat": 4,
 "nbformat_minor": 5
}
