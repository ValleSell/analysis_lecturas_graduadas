{
 "cells": [
  {
   "cell_type": "code",
   "execution_count": null,
   "id": "1fa2fb70",
   "metadata": {},
   "outputs": [],
   "source": [
    "PATH= \"YOUR_PATH""
   ]
  },
  {
   "cell_type": "code",
   "execution_count": null,
   "id": "edd30e47",
   "metadata": {},
   "outputs": [],
   "source": [
    "#El archivo menciones_h_m.txt lo genera el script count_mentions.py en formato csv. Hay que pasarlo primero a txt\n",
    "with open (PATH+\"/menciones_h_m.txt\", \"r\", encoding=\"UTF8\" ) as original:\n",
    "    lineas=original.readlines()\n",
    "    outfile = open(PATH+\"/formatocorrecto.txt\", \"a\", encoding=\"UTF8\")\n",
    "    for line in lineas:\n",
    "        linea=line.split(\",\")\n",
    "        col=linea[0].split(\"_\")[0]\n",
    "        title=linea[0].split(\"_\")[1]\n",
    "        nh=linea[-3]\n",
    "        nm=(linea[-1]).strip()\n",
    "        abr=linea[0].split(\"_\")[2]\n",
    "        g=linea[0].split(\"_\")[3]\n",
    "        year=linea[0].split(\"_\")[-1]\n",
    "        outfile.write(col+ \",\" + title +  \",\" + nh +  \",\" + nm +  \",\" + abr + \",\" + g +  \",\" + year + \"\\n\")\n",
    "    outfile.close()\n",
    "                                           \n",
    "   "
   ]
  },
  {
   "cell_type": "code",
   "execution_count": null,
   "id": "991fd10d",
   "metadata": {},
   "outputs": [],
   "source": [
    "#ordenar por año de publicación\n",
    "with open (PATH+\"/formatocorrecto.txt\", \"r\", encoding=\"UTF8\" ) as resultados:\n",
    "    resultados=resultados.readlines()\n",
    "    resulsort=sorted(resultados, key=lambda linea:(linea.split(\",\"))[-1])\n",
    "    n=0\n",
    "    outfile = open(PATH+\"/persprincMUJ.txt\", \"a\", encoding=\"UTF8\")\n",
    "    outfile.write(\"título,sexo,menciones\\n\")\n",
    "    for libro in resulsort:\n",
    "        dato=libro.split(\",\")\n",
    "        if dato[-2]==\"M\":\n",
    "            n+=1\n",
    "            porc=(int(dato[-4])/(int(dato[-4]) + int(dato[-5])))*100\n",
    "            outfile.write ((dato[-1]).strip() + \"_\" + dato[1] + \",M,\" + str(porc) +\"\\n\" + (dato[-1]).strip() + \"_\" + dato[1] + \",H,\" + str(100-porc) + \"\\n\")\n",
    "    outfile.close()\n",
    "    \n",
    "    n=0\n",
    "    outfile = open(PATH+\"/persprincHOM.txt\", \"a\", encoding=\"UTF8\")\n",
    "    outfile.write(\"título,sexo,menciones\\n\")\n",
    "    for libro in resulsort:\n",
    "        dato=libro.split(\",\")\n",
    "        if dato[-2]==\"H\":\n",
    "            n+=1\n",
    "            porc=(int(dato[-4])/(int(dato[-4]) + int(dato[-5])))*100\n",
    "            outfile.write ((dato[-1]).strip() + \"_\" + dato[1] + \",M,\" + str(porc) +\"\\n\" + (dato[-1]).strip() + \"_\" + dato[1] + \",H,\" + str(100-porc) + \"\\n\")\n",
    "    outfile.close()\n",
    "    \n",
    "    n=0\n",
    "    outfile = open(PATH+\"/persprincMH.txt\", \"a\", encoding=\"UTF8\")\n",
    "    outfile.write(\"título,sexo,menciones\\n\")\n",
    "    for libro in resulsort:\n",
    "        dato=libro.split(\",\")\n",
    "        if dato[-2]==\"MH\":\n",
    "            n+=1\n",
    "            porc=(int(dato[-4])/(int(dato[-4]) + int(dato[-5])))*100\n",
    "            outfile.write ((dato[-1]).strip() + \"_\" + dato[1] + \",M,\" + str(porc) +\"\\n\" + (dato[-1]).strip() + \"_\" + dato[1] + \",H,\" + str(100-porc) +\"\\n\")\n",
    "    outfile.close()\n"
   ]
  },
  {
   "cell_type": "code",
   "execution_count": null,
   "id": "33be1e83",
   "metadata": {},
   "outputs": [],
   "source": [
    "#colección,título,hombres,mujeres,colabrev,protas,año\n",
    "                   \n",
    "import pandas as pd\n",
    "import matplotlib.pyplot as plt\n",
    "\n",
    "df =pd.read_csv(PATH+\"/persprincMUJ.txt\", encoding=\"UTF8\")\n",
    "#print (df)"
   ]
  },
  {
   "cell_type": "code",
   "execution_count": null,
   "id": "3af2ce53",
   "metadata": {},
   "outputs": [],
   "source": [
    "df_M = pd.read_csv(PATH+\"/persprincMUJ.txt\", sep = \",\")\n",
    "df_M.pivot(index=\"título\", columns=\"sexo\", values=\"menciones\").plot(kind=\"bar\", figsize=(20,10))\n",
    "plt.xlabel(\"Lecturas graduadas con año de publicación\")\n",
    "plt.ylabel(\"Porcentaje de menciones\")\n",
    "plt.title (\"Menciones de hombres (H) y mujeres (M) en lecturas con personajes principales femeninos ordenadas por año de aparición\")\n",
    "plt.legend(loc=\"upper right\")\n",
    "plt.show()\n",
    "\n"
   ]
  },
  {
   "cell_type": "code",
   "execution_count": null,
   "id": "839dc8ea",
   "metadata": {},
   "outputs": [],
   "source": [
    "df_H = pd.read_csv(PATH+\"/persprincHOM.txt\", sep = \",\")\n",
    "df_H.pivot(index=\"título\", columns=\"sexo\", values=\"menciones\").plot(kind=\"bar\", figsize=(20,10))\n",
    "plt.xlabel(\"Lecturas graduadas con año de publicación\")\n",
    "plt.ylabel(\"Porcentaje de menciones\")\n",
    "plt.title (\"Menciones de hombres (H) y mujeres (M) en lecturas con personajes principales masculinos ordenadas por año de aparición\")\n",
    "plt.legend(loc=\"upper right\")\n",
    "plt.show()\n",
    "\n"
   ]
  },
  {
   "cell_type": "code",
   "execution_count": null,
   "id": "9fa518fd",
   "metadata": {},
   "outputs": [],
   "source": [
    "df_MH = pd.read_csv(PATH+\"/persprincMH.txt\", sep = \",\")\n",
    "df_MH.pivot(index=\"título\", columns=\"sexo\", values=\"menciones\").plot(kind=\"bar\", figsize=(20,10))\n",
    "plt.xlabel(\"Lecturas graduadas con año de publicación\")\n",
    "plt.ylabel(\"Porcentaje de menciones\")\n",
    "plt.title (\"Menciones de hombres (H) y mujeres (M) en lecturas con personajes principales de ambos sexos ordenadas por año de aparición\")\n",
    "plt.legend(loc=\"upper right\")\n",
    "plt.show()\n"
   ]
  }
 ],
 "metadata": {
  "kernelspec": {
   "display_name": "Python 3",
   "language": "python",
   "name": "python3"
  },
  "language_info": {
   "codemirror_mode": {
    "name": "ipython",
    "version": 3
   },
   "file_extension": ".py",
   "mimetype": "text/x-python",
   "name": "python",
   "nbconvert_exporter": "python",
   "pygments_lexer": "ipython3",
   "version": "3.8.10"
  }
 },
 "nbformat": 4,
 "nbformat_minor": 5
}
