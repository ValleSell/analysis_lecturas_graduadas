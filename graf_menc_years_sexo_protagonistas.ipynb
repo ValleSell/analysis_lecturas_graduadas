{
	"cells": [{
			"cell_type": "code",
			"execution_count": 8,
			"id": "320853bf",
			"metadata": {},
			"outputs": [],
			"source": [
				"#El archivo menciones_h_m.txt lo genera el script count_mentions.py en formato csv. Hay que pasarlo primero a txt. \n",
				"\n",
				"with open (r\"C:/Users/valle/Desktop/menciones_h_m.txt\", \"r\", encoding=\"UTF8\" ) as original:\n",
				"    lineas=original.readlines()\n",
				"    outfile = open(r\"C:/Users/valle/Desktop/formatocorrecto.txt\", \"a\", encoding=\"UTF8\")\n",
				"    for line in lineas:\n",
				"        linea=line.split(\",\")\n",
				"        col=linea[0].split(\"_\")[0]\n",
				"        title=linea[0].split(\"_\")[1]\n",
				"        nh=linea[-3]\n",
				"        nm=(linea[-1]).strip()\n",
				"        abr=linea[0].split(\"_\")[2]\n",
				"        g=linea[0].split(\"_\")[3]\n",
				"        year=linea[0].split(\"_\")[-1]\n",
				"        outfile.write(col+ \",\" + title +  \",\" + nh +  \",\" + nm +  \",\" + abr + \",\" + g +  \",\" + year + \"\\n\")\n",
				"    outfile.close()\n",
				"\n",
				"        \n",
				"        "
			]
		},
		{
			"cell_type": "code",
			"execution_count": 9,
			"id": "8b51f060",
			"metadata": {},
			"outputs": [],
			"source": [
				"#ordenar por año de publicación\n",
				"with open (r\"C:/Users/valle/Desktop/formatocorrecto.txt\", \"r\", encoding=\"UTF8\" ) as resultados:\n",
				"    resultados=resultados.readlines()\n",
				"    resulsort=sorted(resultados, key=lambda linea:(linea.split(\",\"))[-1])\n",
				"    \n",
				"#    n=0\n",
				"    outfile = open(r\"C:/Users/valle/Desktop/persprincMUJ.txt\", \"a\", encoding=\"UTF8\")\n",
				"    outfile.write(\"título,sexo,menciones\\n\")\n",
				"    for libro in resulsort:\n",
				"        dato=libro.split(\",\")\n",
				"        if dato[-2]==\"M\":\n",
				"#            n+=1\n",
				"            porc=(int(dato[-4])/(int(dato[-4]) + int(dato[-5])))*100\n",
				"            outfile.write ((dato[-1]).strip() + \"_\" + dato[1] + \",M,\" + str(porc) +\"\\n\" +\n",
				"                           (dato[-1]).strip() + \"_\" + dato[1] + \",H,\" + str(100-porc) +\"\\n\")                        \n",
				"#    print(n)\n",
				"    outfile.close()\n",
				"    \n",
				"#    n=0\n",
				"    outfile = open(r\"C:/Users/valle/Desktop/persprincHOM.txt\", \"a\", encoding=\"UTF8\")\n",
				"    outfile.write(\"título,sexo,menciones\\n\")\n",
				"    for libro in resulsort:\n",
				"        dato=libro.split(\",\")\n",
				"        if dato[-2]==\"H\":\n",
				"#            n+=1\n",
				"            porc=(int(dato[-4])/(int(dato[-4]) + int(dato[-5])))*100\n",
				"            outfile.write ((dato[-1]).strip() + \"_\" + dato[1] + \",M,\" + str(porc) +\"\\n\" +\n",
				"                           (dato[-1]).strip() + \"_\" + dato[1] + \",H,\" + str(100-porc) +\"\\n\")\n",
				"#    print(\"H\" , n)\n",
				"    outfile.close()\n",
				"     \n",
				"#    n=0\n",
				"    outfile = open(r\"C:/Users/valle/Desktop/persprincMH.txt\", \"a\", encoding=\"UTF8\")\n",
				"    outfile.write(\"título,sexo,menciones\\n\")\n",
				"    for libro in resulsort:\n",
				"        dato=libro.split(\",\")\n",
				"        if dato[-2]==\"MH\":\n",
				"#            n+=1\n",
				"            porc=(int(dato[-4])/(int(dato[-4]) + int(dato[-5])))*100\n",
				"            outfile.write ((dato[-1]).strip() + \"_\" + dato[1] + \",M,\" + str(porc) +\"\\n\" +\n",
				"                           (dato[-1]).strip() + \"_\" + dato[1] + \",H,\" + str(100-porc) +\"\\n\")\n",
				"            \n",
				"#    print(n)\n",
				"    outfile.close()\n",
				"    \n",
				"#colección,título,hombres,mujeres,colabrev,protas,año"
			]
		},
		{
			"cell_type": "code",
			"execution_count": 13,
			"id": "1519be09",
			"metadata": {},
			"outputs": [],
			"source": [
				"import pandas as pd\n",
				"import matplotlib.pyplot as plt\n",
				"#df =pd.read_csv(r\"C:/Users/valle/Desktop/persprincMUJ.txt\", encoding=\"UTF8\")\n",
				"#print (df)"
			]
		},
		{
			"cell_type": "code",
			"execution_count": 14,
			"id": "f4f8dfc3",
			"metadata": {},
			"outputs": [],
			"source": [
				"df_M = pd.read_csv(r\"C:/Users/valle/Desktop/persprincMUJ.txt\", sep = \",\")"
			]
		},
		{
			"cell_type": "code",
			"execution_count": 15,
			"id": "d699a335",
			"metadata": {},
			"outputs": [],
			"source": [
				"df_M.pivot(index=\"título\", columns=\"sexo\", values=\"menciones\").plot(kind=\"bar\", figsize=(20,10))\n",
				"\n",
				"plt.xlabel(\"Lecturas graduadas con año de publicación\")\n",
				"plt.ylabel(\"Nº de menciones\")\n",
				"plt.title (\"Número de menciones de hombres (H) y mujeres (M) en lecturas con personajes principales femeninos ordenadas por año de aparición\")\n",
				"plt.legend(loc=\"upper right\")\n",
				"plt.show()"
			]
		},

		{
			"cell_type": "code",
			"execution_count": 19,
			"id": "4d03ef59",
			"metadata": {},
			"outputs": [],
			"source": [
				"df_H = pd.read_csv(r\"C:/Users/valle/Desktop/persprincHOM.txt\", sep = \",\")"
			]
		},
		{
			"cell_type": "code",
			"execution_count": 20,
			"id": "619604ae",
			"metadata": {},
			"outputs": [],
			"source": [
				"df_H.pivot(index=\"título\", columns=\"sexo\", values=\"menciones\").plot(kind=\"bar\", figsize=(20,10))\n",
				"\n",
				"plt.xlabel(\"Lecturas graduadas con año de publicación\")\n",
				"plt.ylabel(\"Nº de menciones\")\n",
				"plt.title (\"Número de menciones de hombres (H) y mujeres (M) en lecturas con personajes principales masculinos ordenadas por año de aparición\")\n",
				"plt.legend(loc=\"upper right\")\n",
				"plt.show()"
			]
		},
		{
			"cell_type": "code",
			"execution_count": 16,
			"id": "b4f94041",
			"metadata": {},
			"outputs": [],
			"source": [
				"df_MH = pd.read_csv(r\"C:/Users/valle/Desktop/persprincMH.txt\", sep = \",\")"
			]
		},
		{
			"cell_type": "code",
			"execution_count": 17,
			"id": "0659bc4a",
			"metadata": {},
			"outputs": [],
			"source": [
				"df_MH.pivot(index=\"título\", columns=\"sexo\", values=\"menciones\").plot(kind=\"bar\", figsize=(20,10))\n",
				"\n",
				"plt.xlabel(\"Lecturas graduadas con año de publicación\")\n",
				"plt.ylabel(\"Nº de menciones\")\n",
				"plt.title (\"Número de menciones de hombres (H) y mujeres (M) en lecturas con personajes principales de ambos sexos ordenadas por año de aparición\")\n",
				"plt.legend(loc=\"upper right\")\n",
				"plt.show()"
			]
		}
	]
}
