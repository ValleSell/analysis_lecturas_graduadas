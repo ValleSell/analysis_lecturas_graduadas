{
 "cells": [
  {
   "cell_type": "code",
   "execution_count": 1,
   "id": "971f22bc",
   "metadata": {},
   "outputs": [],
   "source": [
    "with open (\"C:/Users/valle/Desktop/nombres/nombres_m.txt\", \"r\", encoding=\"UTF8\" ) as nombres:\n",
    "    outfile = open(\"C:/Users/valle/Desktop/nombres/nombres_m1.txt\", \"w\", encoding=\"UTF8\")\n",
    "    for name in nombres.readlines():\n",
    "        if len(name)>3:         #quitar letras sueltas y líneas en blanco\n",
    "            outfile.write(name)\n",
    "    outfile.close()\n"
   ]
  },
  {
   "cell_type": "code",
   "execution_count": 2,
   "id": "ab08dfe0",
   "metadata": {},
   "outputs": [],
   "source": [
    "with open (\"C:/Users/valle/Desktop/nombres/nombres_m1.txt\", \"r\", encoding=\"UTF8\" ) as nombres:\n",
    "    outfile = open(\"C:/Users/valle/Desktop/nombres/nombres_m2.txt\", \"w\", encoding=\"UTF8\")\n",
    "    for name in nombres.readlines():\n",
    "        Name_Like_This = \" \".join([part.lower() for part in name.split(\" \")])       #pasar todo a camel case\n",
    "        outfile.write(Name_Like_This)\n",
    "    outfile.close()\n"
   ]
  },
  {
   "cell_type": "code",
   "execution_count": 3,
   "id": "bc0dc428",
   "metadata": {},
   "outputs": [],
   "source": [
    "#eliminar la información entre paréntesis. ejemplo \"Alejandro (nombre)\" pasa a \"Alejandro\"\n",
    "\n",
    "import re\n",
    "\n",
    "\n",
    "with open (\"C:/Users/valle/Desktop/nombres/nombres_m2.txt\", \"r\", encoding=\"UTF8\" ) as nombres:\n",
    "    outfile = open(\"C:/Users/valle/Desktop/nombres/nombres_m3.txt\", \"w\", encoding=\"UTF8\")\n",
    "    for name in nombres.readlines():\n",
    "         outfile.write(re.sub(r\" ?\\([^)]+\\)\", \"\", name))\n",
    "    outfile.close()"
   ]
  },
  {
   "cell_type": "code",
   "execution_count": 4,
   "id": "1968cccf",
   "metadata": {},
   "outputs": [],
   "source": [
    "#quitar nombres repetidos\n",
    "lista=[]\n",
    "with open (\"C:/Users/valle/Desktop/nombres/nombres_m3.txt\", \"r\", encoding=\"UTF8\" ) as nombres:\n",
    "    outfile = open(\"C:/Users/valle/Desktop/nombres/nombres_m4.txt\", \"w\", encoding=\"UTF8\")\n",
    "    for name in nombres.readlines():\n",
    "        if name not in lista:\n",
    "            lista.append(name)\n",
    "    for name in lista:\n",
    "        outfile.write(name)\n",
    "    outfile.close()\n"
   ]
  },
  {
   "cell_type": "code",
   "execution_count": 5,
   "id": "6cd18553",
   "metadata": {},
   "outputs": [],
   "source": [
    "#duplicar nombres con acento?"
   ]
  },
  {
   "cell_type": "code",
   "execution_count": 6,
   "id": "f339e004",
   "metadata": {},
   "outputs": [],
   "source": [
    "with open (\"C:/Users/valle/Desktop/nombres/nombres_m4.txt\", \"r\", encoding=\"UTF8\" ) as nombres:\n",
    "    outfile = open(\"C:/Users/valle/Desktop/nombres/nombres_m5.txt\", \"w\", encoding=\"UTF8\")\n",
    "    for name in nombres.readlines():\n",
    "     outfile.write(name.strip() + \", men, gender\" + \"\\n\")\n",
    "    outfile.close()"
   ]
  },
  {
   "cell_type": "code",
   "execution_count": 7,
   "id": "ec5d62c6",
   "metadata": {},
   "outputs": [],
   "source": [
    "import pandas as pd\n",
    "\n",
    "read_file = pd.read_csv (\"C:/Users/valle/Desktop/nombres/nombres_m5.txt\", encoding=\"utf-8\")\n",
    "read_file.to_csv (\"C:/Users/valle/Desktop/nombres/nombres_m5.csv\", index=None, sep=',',encoding=\"utf-8\")"
   ]
  },
  {
   "cell_type": "code",
   "execution_count": 8,
   "id": "1531ff41",
   "metadata": {},
   "outputs": [],
   "source": [
    "#Y AHORA LO MISMO CON LOS NOMBRES DE MUJER"
   ]
  },
  {
   "cell_type": "code",
   "execution_count": 9,
   "id": "f1405be9",
   "metadata": {},
   "outputs": [],
   "source": [
    "with open (\"C:/Users/valle/Desktop/nombres/nombres_f.txt\", \"r\", encoding=\"UTF8\" ) as nombres:\n",
    "    outfile = open(\"C:/Users/valle/Desktop/nombres/nombres_f1.txt\", \"w\", encoding=\"UTF8\")\n",
    "    for name in nombres.readlines():\n",
    "\n",
    "#letras sueltas y líneas en blanco\n",
    "        if len(name)>3:\n",
    "            outfile.write(name)\n",
    "    outfile.close()"
   ]
  },
  {
   "cell_type": "code",
   "execution_count": 10,
   "id": "20efb6a5",
   "metadata": {},
   "outputs": [],
   "source": [
    "#camel case\n",
    "with open (\"C:/Users/valle/Desktop/nombres/nombres_f1.txt\", \"r\", encoding=\"UTF8\" ) as nombres:\n",
    "    outfile = open(\"C:/Users/valle/Desktop/nombres/nombres_f2.txt\", \"w\", encoding=\"UTF8\")\n",
    "    for name in nombres.readlines():\n",
    "        Name_Like_This = \" \".join([part.lower() for part in name.split(\" \")])\n",
    "        outfile.write(Name_Like_This)\n",
    "    outfile.close()"
   ]
  },
  {
   "cell_type": "code",
   "execution_count": 11,
   "id": "e593d342",
   "metadata": {},
   "outputs": [],
   "source": [
    "#eliminar la información entre paréntesis. ejemplo \"Ana (nombre)\" pasa a \"Ana\"\n",
    "\n",
    "import re\n",
    "\n",
    "\n",
    "with open (\"C:/Users/valle/Desktop/nombres/nombres_f2.txt\", \"r\", encoding=\"UTF8\" ) as nombres:\n",
    "    outfile = open(\"C:/Users/valle/Desktop/nombres/nombres_f3.txt\", \"w\", encoding=\"UTF8\")\n",
    "    for name in nombres.readlines():\n",
    "         outfile.write(re.sub(r\" ?\\([^)]+\\)\", \"\", name))\n",
    "    outfile.close()"
   ]
  },
  {
   "cell_type": "code",
   "execution_count": 12,
   "id": "73ccad6b",
   "metadata": {},
   "outputs": [],
   "source": [
    "#quitar nombres repetidos\n",
    "lista=[]\n",
    "with open (\"C:/Users/valle/Desktop/nombres/nombres_f3.txt\", \"r\", encoding=\"UTF8\" ) as nombres:\n",
    "    outfile = open(\"C:/Users/valle/Desktop/nombres/nombres_f4.txt\", \"w\", encoding=\"UTF8\")\n",
    "    for name in nombres.readlines():\n",
    "        if name not in lista:\n",
    "            lista.append(name)\n",
    "    for name in lista:\n",
    "        outfile.write(name)\n",
    "    outfile.close()"
   ]
  },
  {
   "cell_type": "code",
   "execution_count": 13,
   "id": "5aa33e53",
   "metadata": {},
   "outputs": [],
   "source": [
    "#adaptar al formato utilizado por Demszky\n",
    "with open (\"C:/Users/valle/Desktop/nombres/nombres_f4.txt\", \"r\", encoding=\"UTF8\" ) as nombres:\n",
    "    outfile = open(\"C:/Users/valle/Desktop/nombres/nombres_f5.txt\", \"w\", encoding=\"UTF8\")\n",
    "    for name in nombres.readlines():\n",
    "     outfile.write(name.strip() + \", women, gender\" + \"\\n\")\n",
    "    outfile.close()"
   ]
  },
  {
   "cell_type": "code",
   "execution_count": 14,
   "id": "b034e7f3",
   "metadata": {},
   "outputs": [],
   "source": [
    "#transformar el archivo txt a csv\n",
    "import pandas as pd\n",
    "\n",
    "read_file = pd.read_csv (\"C:/Users/valle/Desktop/nombres/nombres_f5.txt\", encoding=\"utf-8\")\n",
    "read_file.to_csv (\"C:/Users/valle/Desktop/nombres/nombres_f5.csv\", index=None, sep=',',encoding=\"utf-8\")"
   ]
  },
  {
   "cell_type": "code",
   "execution_count": null,
   "id": "c0c06c58",
   "metadata": {},
   "outputs": [],
   "source": []
  }
 ],
 "metadata": {
  "kernelspec": {
   "display_name": "Python 3",
   "language": "python",
   "name": "python3"
  },
  "language_info": {
   "codemirror_mode": {
    "name": "ipython",
    "version": 3
   },
   "file_extension": ".py",
   "mimetype": "text/x-python",
   "name": "python",
   "nbconvert_exporter": "python",
   "pygments_lexer": "ipython3",
   "version": "3.8.10"
  }
 },
 "nbformat": 4,
 "nbformat_minor": 5
}
